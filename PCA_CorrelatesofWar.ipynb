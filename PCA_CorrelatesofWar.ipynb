{
  "nbformat": 4,
  "nbformat_minor": 0,
  "metadata": {
    "colab": {
      "provenance": [],
      "collapsed_sections": []
    },
    "kernelspec": {
      "name": "python3",
      "display_name": "Python 3"
    }
  },
  "cells": [
    {
      "cell_type": "code",
      "metadata": {
        "id": "-vv-kwoQB5SN"
      },
      "source": [
        "import pandas as pd \n",
        "import numpy as np\n",
        "import matplotlib.pyplot as plt\n",
        "from sklearn.decomposition import PCA\n",
        "from sklearn.preprocessing import StandardScaler\n",
        "%matplotlib inline"
      ],
      "execution_count": null,
      "outputs": []
    },
    {
      "cell_type": "code",
      "metadata": {
        "id": "uZ0LxhqXDNGV"
      },
      "source": [
        "df=pd.read_csv('/content/new_dataset.csv')"
      ],
      "execution_count": null,
      "outputs": []
    },
    {
      "cell_type": "code",
      "metadata": {
        "id": "xVSitXnTDbnI"
      },
      "source": [
        "new_df=df.dropna(axis=0, how='any')"
      ],
      "execution_count": null,
      "outputs": []
    },
    {
      "cell_type": "code",
      "metadata": {
        "colab": {
          "base_uri": "https://localhost:8080/",
          "height": 202
        },
        "id": "9W3drwPcCeHE",
        "outputId": "6fb460bf-6cdb-4816-89ce-77b54b48bbe3"
      },
      "source": [
        "new_df.head()"
      ],
      "execution_count": null,
      "outputs": [
        {
          "output_type": "execute_result",
          "data": {
            "text/html": [
              "<div>\n",
              "<style scoped>\n",
              "    .dataframe tbody tr th:only-of-type {\n",
              "        vertical-align: middle;\n",
              "    }\n",
              "\n",
              "    .dataframe tbody tr th {\n",
              "        vertical-align: top;\n",
              "    }\n",
              "\n",
              "    .dataframe thead th {\n",
              "        text-align: right;\n",
              "    }\n",
              "</style>\n",
              "<table border=\"1\" class=\"dataframe\">\n",
              "  <thead>\n",
              "    <tr style=\"text-align: right;\">\n",
              "      <th></th>\n",
              "      <th>ccode_x</th>\n",
              "      <th>year</th>\n",
              "      <th>milex</th>\n",
              "      <th>milper</th>\n",
              "      <th>irst</th>\n",
              "      <th>pec</th>\n",
              "      <th>tpop</th>\n",
              "      <th>upop</th>\n",
              "      <th>cinc</th>\n",
              "      <th>ccode_y</th>\n",
              "      <th>statename</th>\n",
              "      <th>imports</th>\n",
              "      <th>exports</th>\n",
              "      <th>AtWar</th>\n",
              "    </tr>\n",
              "  </thead>\n",
              "  <tbody>\n",
              "    <tr>\n",
              "      <th>0</th>\n",
              "      <td>2</td>\n",
              "      <td>1870</td>\n",
              "      <td>13128</td>\n",
              "      <td>50</td>\n",
              "      <td>1692</td>\n",
              "      <td>37779</td>\n",
              "      <td>39905</td>\n",
              "      <td>4130</td>\n",
              "      <td>0.099000</td>\n",
              "      <td>2</td>\n",
              "      <td>170</td>\n",
              "      <td>450.000000</td>\n",
              "      <td>418.000000</td>\n",
              "      <td>0</td>\n",
              "    </tr>\n",
              "    <tr>\n",
              "      <th>1</th>\n",
              "      <td>2</td>\n",
              "      <td>1871</td>\n",
              "      <td>11811</td>\n",
              "      <td>42</td>\n",
              "      <td>1735</td>\n",
              "      <td>39546</td>\n",
              "      <td>40938</td>\n",
              "      <td>4302</td>\n",
              "      <td>0.098381</td>\n",
              "      <td>2</td>\n",
              "      <td>170</td>\n",
              "      <td>534.000000</td>\n",
              "      <td>475.000000</td>\n",
              "      <td>0</td>\n",
              "    </tr>\n",
              "    <tr>\n",
              "      <th>2</th>\n",
              "      <td>2</td>\n",
              "      <td>1872</td>\n",
              "      <td>14246</td>\n",
              "      <td>42</td>\n",
              "      <td>2590</td>\n",
              "      <td>48479</td>\n",
              "      <td>41972</td>\n",
              "      <td>4481</td>\n",
              "      <td>0.115283</td>\n",
              "      <td>2</td>\n",
              "      <td>170</td>\n",
              "      <td>632.000000</td>\n",
              "      <td>474.000000</td>\n",
              "      <td>0</td>\n",
              "    </tr>\n",
              "    <tr>\n",
              "      <th>3</th>\n",
              "      <td>2</td>\n",
              "      <td>1873</td>\n",
              "      <td>15014</td>\n",
              "      <td>43</td>\n",
              "      <td>2602</td>\n",
              "      <td>53674</td>\n",
              "      <td>43006</td>\n",
              "      <td>4667</td>\n",
              "      <td>0.116269</td>\n",
              "      <td>2</td>\n",
              "      <td>170</td>\n",
              "      <td>342.029999</td>\n",
              "      <td>626.590027</td>\n",
              "      <td>0</td>\n",
              "    </tr>\n",
              "    <tr>\n",
              "      <th>4</th>\n",
              "      <td>2</td>\n",
              "      <td>1874</td>\n",
              "      <td>12899</td>\n",
              "      <td>44</td>\n",
              "      <td>2439</td>\n",
              "      <td>51736</td>\n",
              "      <td>44040</td>\n",
              "      <td>4862</td>\n",
              "      <td>0.114245</td>\n",
              "      <td>2</td>\n",
              "      <td>170</td>\n",
              "      <td>576.000000</td>\n",
              "      <td>619.000000</td>\n",
              "      <td>0</td>\n",
              "    </tr>\n",
              "  </tbody>\n",
              "</table>\n",
              "</div>"
            ],
            "text/plain": [
              "   ccode_x  year  milex  milper  ...  statename     imports     exports  AtWar\n",
              "0        2  1870  13128      50  ...        170  450.000000  418.000000      0\n",
              "1        2  1871  11811      42  ...        170  534.000000  475.000000      0\n",
              "2        2  1872  14246      42  ...        170  632.000000  474.000000      0\n",
              "3        2  1873  15014      43  ...        170  342.029999  626.590027      0\n",
              "4        2  1874  12899      44  ...        170  576.000000  619.000000      0\n",
              "\n",
              "[5 rows x 14 columns]"
            ]
          },
          "metadata": {
            "tags": []
          },
          "execution_count": 65
        }
      ]
    },
    {
      "cell_type": "code",
      "metadata": {
        "id": "VIcTM-GEChST"
      },
      "source": [
        "x = new_df.drop('AtWar', axis=1)\n",
        "y = new_df.AtWar"
      ],
      "execution_count": null,
      "outputs": []
    },
    {
      "cell_type": "code",
      "metadata": {
        "id": "fsjSzkV2D4Ak"
      },
      "source": [
        "x = StandardScaler().fit_transform(x)"
      ],
      "execution_count": null,
      "outputs": []
    },
    {
      "cell_type": "code",
      "metadata": {
        "colab": {
          "base_uri": "https://localhost:8080/"
        },
        "id": "uhNitvu0GH_E",
        "outputId": "e733089d-c51f-4826-a560-8ef5fa01b767"
      },
      "source": [
        "x"
      ],
      "execution_count": null,
      "outputs": [
        {
          "output_type": "execute_result",
          "data": {
            "text/plain": [
              "array([[-1.55191318, -2.51302071, -0.13537457, ...,  1.56012933,\n",
              "        -0.18868167, -0.20027583],\n",
              "       [-1.55191318, -2.48634409, -0.13543185, ...,  1.56012933,\n",
              "        -0.18781535, -0.19963118],\n",
              "       [-1.55191318, -2.45966747, -0.13532594, ...,  1.56012933,\n",
              "        -0.18680465, -0.19964249],\n",
              "       ...,\n",
              "       [ 2.32015965,  1.22170586, -0.13594561, ...,  0.84958487,\n",
              "        -0.18856683, -0.20348735],\n",
              "       [ 2.32015965,  1.24838247, -0.13594561, ...,  0.84958487,\n",
              "        -0.18823787, -0.20343991],\n",
              "       [ 2.32015965,  1.27505909, -0.13594561, ...,  0.84958487,\n",
              "        -0.18817184, -0.20330989]])"
            ]
          },
          "metadata": {
            "tags": []
          },
          "execution_count": 68
        }
      ]
    },
    {
      "cell_type": "code",
      "metadata": {
        "id": "l7v1sXlREDpK"
      },
      "source": [
        "pca = PCA(n_components=2)"
      ],
      "execution_count": null,
      "outputs": []
    },
    {
      "cell_type": "code",
      "metadata": {
        "id": "5kCFup4XEH5u"
      },
      "source": [
        "principalComponents = pca.fit_transform(x)"
      ],
      "execution_count": null,
      "outputs": []
    },
    {
      "cell_type": "code",
      "metadata": {
        "id": "kXyqT2EsEMMD"
      },
      "source": [
        "principalDf = pd.DataFrame(data = principalComponents\n",
        "             , columns = ['principal component 1', 'principal component 2'])"
      ],
      "execution_count": null,
      "outputs": []
    },
    {
      "cell_type": "code",
      "metadata": {
        "colab": {
          "base_uri": "https://localhost:8080/",
          "height": 202
        },
        "id": "8LQ0mluNENd3",
        "outputId": "df92ecf9-bcf3-4757-ef2c-e8fd41007823"
      },
      "source": [
        "principalDf.head(5)"
      ],
      "execution_count": null,
      "outputs": [
        {
          "output_type": "execute_result",
          "data": {
            "text/html": [
              "<div>\n",
              "<style scoped>\n",
              "    .dataframe tbody tr th:only-of-type {\n",
              "        vertical-align: middle;\n",
              "    }\n",
              "\n",
              "    .dataframe tbody tr th {\n",
              "        vertical-align: top;\n",
              "    }\n",
              "\n",
              "    .dataframe thead th {\n",
              "        text-align: right;\n",
              "    }\n",
              "</style>\n",
              "<table border=\"1\" class=\"dataframe\">\n",
              "  <thead>\n",
              "    <tr style=\"text-align: right;\">\n",
              "      <th></th>\n",
              "      <th>principal component 1</th>\n",
              "      <th>principal component 2</th>\n",
              "    </tr>\n",
              "  </thead>\n",
              "  <tbody>\n",
              "    <tr>\n",
              "      <th>0</th>\n",
              "      <td>0.291654</td>\n",
              "      <td>2.782440</td>\n",
              "    </tr>\n",
              "    <tr>\n",
              "      <th>1</th>\n",
              "      <td>0.294194</td>\n",
              "      <td>2.772055</td>\n",
              "    </tr>\n",
              "    <tr>\n",
              "      <th>2</th>\n",
              "      <td>0.470488</td>\n",
              "      <td>2.814386</td>\n",
              "    </tr>\n",
              "    <tr>\n",
              "      <th>3</th>\n",
              "      <td>0.494742</td>\n",
              "      <td>2.808767</td>\n",
              "    </tr>\n",
              "    <tr>\n",
              "      <th>4</th>\n",
              "      <td>0.481152</td>\n",
              "      <td>2.792842</td>\n",
              "    </tr>\n",
              "  </tbody>\n",
              "</table>\n",
              "</div>"
            ],
            "text/plain": [
              "   principal component 1  principal component 2\n",
              "0               0.291654               2.782440\n",
              "1               0.294194               2.772055\n",
              "2               0.470488               2.814386\n",
              "3               0.494742               2.808767\n",
              "4               0.481152               2.792842"
            ]
          },
          "metadata": {
            "tags": []
          },
          "execution_count": 72
        }
      ]
    },
    {
      "cell_type": "code",
      "metadata": {
        "id": "TcpMc4T3Izg7"
      },
      "source": [
        "principalDf = principalDf.dropna(axis=0, how='any')"
      ],
      "execution_count": null,
      "outputs": []
    },
    {
      "cell_type": "code",
      "metadata": {
        "colab": {
          "base_uri": "https://localhost:8080/",
          "height": 202
        },
        "id": "aq7vT8zVHNUB",
        "outputId": "eb28df79-4678-4e2d-f2e1-d8e4ee95152d"
      },
      "source": [
        "df[['AtWar']].head()"
      ],
      "execution_count": null,
      "outputs": [
        {
          "output_type": "execute_result",
          "data": {
            "text/html": [
              "<div>\n",
              "<style scoped>\n",
              "    .dataframe tbody tr th:only-of-type {\n",
              "        vertical-align: middle;\n",
              "    }\n",
              "\n",
              "    .dataframe tbody tr th {\n",
              "        vertical-align: top;\n",
              "    }\n",
              "\n",
              "    .dataframe thead th {\n",
              "        text-align: right;\n",
              "    }\n",
              "</style>\n",
              "<table border=\"1\" class=\"dataframe\">\n",
              "  <thead>\n",
              "    <tr style=\"text-align: right;\">\n",
              "      <th></th>\n",
              "      <th>AtWar</th>\n",
              "    </tr>\n",
              "  </thead>\n",
              "  <tbody>\n",
              "    <tr>\n",
              "      <th>0</th>\n",
              "      <td>0</td>\n",
              "    </tr>\n",
              "    <tr>\n",
              "      <th>1</th>\n",
              "      <td>0</td>\n",
              "    </tr>\n",
              "    <tr>\n",
              "      <th>2</th>\n",
              "      <td>0</td>\n",
              "    </tr>\n",
              "    <tr>\n",
              "      <th>3</th>\n",
              "      <td>0</td>\n",
              "    </tr>\n",
              "    <tr>\n",
              "      <th>4</th>\n",
              "      <td>0</td>\n",
              "    </tr>\n",
              "  </tbody>\n",
              "</table>\n",
              "</div>"
            ],
            "text/plain": [
              "   AtWar\n",
              "0      0\n",
              "1      0\n",
              "2      0\n",
              "3      0\n",
              "4      0"
            ]
          },
          "metadata": {
            "tags": []
          },
          "execution_count": 74
        }
      ]
    },
    {
      "cell_type": "code",
      "metadata": {
        "colab": {
          "base_uri": "https://localhost:8080/",
          "height": 815
        },
        "id": "W5yjDedSHTaR",
        "outputId": "8c8af8d8-df80-4f22-a4b1-c0c519a8afa9"
      },
      "source": [
        "finalDf = pd.concat([principalDf, df[['AtWar']]], axis = 1)\n",
        "finalDf.head(5)\n",
        "finalDf.tail(25)"
      ],
      "execution_count": null,
      "outputs": [
        {
          "output_type": "execute_result",
          "data": {
            "text/html": [
              "<div>\n",
              "<style scoped>\n",
              "    .dataframe tbody tr th:only-of-type {\n",
              "        vertical-align: middle;\n",
              "    }\n",
              "\n",
              "    .dataframe tbody tr th {\n",
              "        vertical-align: top;\n",
              "    }\n",
              "\n",
              "    .dataframe thead th {\n",
              "        text-align: right;\n",
              "    }\n",
              "</style>\n",
              "<table border=\"1\" class=\"dataframe\">\n",
              "  <thead>\n",
              "    <tr style=\"text-align: right;\">\n",
              "      <th></th>\n",
              "      <th>principal component 1</th>\n",
              "      <th>principal component 2</th>\n",
              "      <th>AtWar</th>\n",
              "    </tr>\n",
              "  </thead>\n",
              "  <tbody>\n",
              "    <tr>\n",
              "      <th>12215</th>\n",
              "      <td>-0.602570</td>\n",
              "      <td>-3.349853</td>\n",
              "      <td>0</td>\n",
              "    </tr>\n",
              "    <tr>\n",
              "      <th>12216</th>\n",
              "      <td>-0.601062</td>\n",
              "      <td>-3.357545</td>\n",
              "      <td>0</td>\n",
              "    </tr>\n",
              "    <tr>\n",
              "      <th>12217</th>\n",
              "      <td>-0.599601</td>\n",
              "      <td>-3.365236</td>\n",
              "      <td>0</td>\n",
              "    </tr>\n",
              "    <tr>\n",
              "      <th>12218</th>\n",
              "      <td>-0.598079</td>\n",
              "      <td>-3.372925</td>\n",
              "      <td>0</td>\n",
              "    </tr>\n",
              "    <tr>\n",
              "      <th>12219</th>\n",
              "      <td>-0.596610</td>\n",
              "      <td>-3.380623</td>\n",
              "      <td>0</td>\n",
              "    </tr>\n",
              "    <tr>\n",
              "      <th>12220</th>\n",
              "      <td>-0.595200</td>\n",
              "      <td>-3.388328</td>\n",
              "      <td>0</td>\n",
              "    </tr>\n",
              "    <tr>\n",
              "      <th>12221</th>\n",
              "      <td>-0.593277</td>\n",
              "      <td>-3.395983</td>\n",
              "      <td>0</td>\n",
              "    </tr>\n",
              "    <tr>\n",
              "      <th>12222</th>\n",
              "      <td>-0.591702</td>\n",
              "      <td>-3.403668</td>\n",
              "      <td>0</td>\n",
              "    </tr>\n",
              "    <tr>\n",
              "      <th>12223</th>\n",
              "      <td>-0.590273</td>\n",
              "      <td>-3.411372</td>\n",
              "      <td>0</td>\n",
              "    </tr>\n",
              "    <tr>\n",
              "      <th>12224</th>\n",
              "      <td>-0.588718</td>\n",
              "      <td>-3.419068</td>\n",
              "      <td>0</td>\n",
              "    </tr>\n",
              "    <tr>\n",
              "      <th>12225</th>\n",
              "      <td>-0.587200</td>\n",
              "      <td>-3.426761</td>\n",
              "      <td>0</td>\n",
              "    </tr>\n",
              "    <tr>\n",
              "      <th>12226</th>\n",
              "      <td>-0.585295</td>\n",
              "      <td>-3.434408</td>\n",
              "      <td>0</td>\n",
              "    </tr>\n",
              "    <tr>\n",
              "      <th>12227</th>\n",
              "      <td>-0.583789</td>\n",
              "      <td>-3.442100</td>\n",
              "      <td>0</td>\n",
              "    </tr>\n",
              "    <tr>\n",
              "      <th>12228</th>\n",
              "      <td>-0.582616</td>\n",
              "      <td>-3.449829</td>\n",
              "      <td>0</td>\n",
              "    </tr>\n",
              "    <tr>\n",
              "      <th>12229</th>\n",
              "      <td>-0.580761</td>\n",
              "      <td>-3.457485</td>\n",
              "      <td>0</td>\n",
              "    </tr>\n",
              "    <tr>\n",
              "      <th>12230</th>\n",
              "      <td>-0.579186</td>\n",
              "      <td>-3.465168</td>\n",
              "      <td>0</td>\n",
              "    </tr>\n",
              "    <tr>\n",
              "      <th>12231</th>\n",
              "      <td>-0.575962</td>\n",
              "      <td>-3.472682</td>\n",
              "      <td>0</td>\n",
              "    </tr>\n",
              "    <tr>\n",
              "      <th>12232</th>\n",
              "      <td>-0.575968</td>\n",
              "      <td>-3.480536</td>\n",
              "      <td>0</td>\n",
              "    </tr>\n",
              "    <tr>\n",
              "      <th>12233</th>\n",
              "      <td>-0.574266</td>\n",
              "      <td>-3.488212</td>\n",
              "      <td>0</td>\n",
              "    </tr>\n",
              "    <tr>\n",
              "      <th>12234</th>\n",
              "      <td>-0.572701</td>\n",
              "      <td>-3.495895</td>\n",
              "      <td>0</td>\n",
              "    </tr>\n",
              "    <tr>\n",
              "      <th>12235</th>\n",
              "      <td>-0.571446</td>\n",
              "      <td>-3.503613</td>\n",
              "      <td>0</td>\n",
              "    </tr>\n",
              "    <tr>\n",
              "      <th>12236</th>\n",
              "      <td>-0.569486</td>\n",
              "      <td>-3.511253</td>\n",
              "      <td>0</td>\n",
              "    </tr>\n",
              "    <tr>\n",
              "      <th>12237</th>\n",
              "      <td>-0.567868</td>\n",
              "      <td>-3.518933</td>\n",
              "      <td>0</td>\n",
              "    </tr>\n",
              "    <tr>\n",
              "      <th>12238</th>\n",
              "      <td>-0.566307</td>\n",
              "      <td>-3.526623</td>\n",
              "      <td>0</td>\n",
              "    </tr>\n",
              "    <tr>\n",
              "      <th>12239</th>\n",
              "      <td>NaN</td>\n",
              "      <td>NaN</td>\n",
              "      <td>0</td>\n",
              "    </tr>\n",
              "  </tbody>\n",
              "</table>\n",
              "</div>"
            ],
            "text/plain": [
              "       principal component 1  principal component 2  AtWar\n",
              "12215              -0.602570              -3.349853      0\n",
              "12216              -0.601062              -3.357545      0\n",
              "12217              -0.599601              -3.365236      0\n",
              "12218              -0.598079              -3.372925      0\n",
              "12219              -0.596610              -3.380623      0\n",
              "12220              -0.595200              -3.388328      0\n",
              "12221              -0.593277              -3.395983      0\n",
              "12222              -0.591702              -3.403668      0\n",
              "12223              -0.590273              -3.411372      0\n",
              "12224              -0.588718              -3.419068      0\n",
              "12225              -0.587200              -3.426761      0\n",
              "12226              -0.585295              -3.434408      0\n",
              "12227              -0.583789              -3.442100      0\n",
              "12228              -0.582616              -3.449829      0\n",
              "12229              -0.580761              -3.457485      0\n",
              "12230              -0.579186              -3.465168      0\n",
              "12231              -0.575962              -3.472682      0\n",
              "12232              -0.575968              -3.480536      0\n",
              "12233              -0.574266              -3.488212      0\n",
              "12234              -0.572701              -3.495895      0\n",
              "12235              -0.571446              -3.503613      0\n",
              "12236              -0.569486              -3.511253      0\n",
              "12237              -0.567868              -3.518933      0\n",
              "12238              -0.566307              -3.526623      0\n",
              "12239                    NaN                    NaN      0"
            ]
          },
          "metadata": {
            "tags": []
          },
          "execution_count": 75
        }
      ]
    },
    {
      "cell_type": "code",
      "metadata": {
        "id": "UwzHPAHmJPgY"
      },
      "source": [
        "#finalDf = finalDf.dropna(axis=0, how='any')"
      ],
      "execution_count": null,
      "outputs": []
    },
    {
      "cell_type": "code",
      "metadata": {
        "colab": {
          "base_uri": "https://localhost:8080/",
          "height": 815
        },
        "id": "w2ugpHSgJGV2",
        "outputId": "5b342f2f-bfab-46be-dc94-bb16d6219d48"
      },
      "source": [
        "finalDf.tail(25)"
      ],
      "execution_count": null,
      "outputs": [
        {
          "output_type": "execute_result",
          "data": {
            "text/html": [
              "<div>\n",
              "<style scoped>\n",
              "    .dataframe tbody tr th:only-of-type {\n",
              "        vertical-align: middle;\n",
              "    }\n",
              "\n",
              "    .dataframe tbody tr th {\n",
              "        vertical-align: top;\n",
              "    }\n",
              "\n",
              "    .dataframe thead th {\n",
              "        text-align: right;\n",
              "    }\n",
              "</style>\n",
              "<table border=\"1\" class=\"dataframe\">\n",
              "  <thead>\n",
              "    <tr style=\"text-align: right;\">\n",
              "      <th></th>\n",
              "      <th>principal component 1</th>\n",
              "      <th>principal component 2</th>\n",
              "      <th>AtWar</th>\n",
              "    </tr>\n",
              "  </thead>\n",
              "  <tbody>\n",
              "    <tr>\n",
              "      <th>12215</th>\n",
              "      <td>-0.602570</td>\n",
              "      <td>-3.349853</td>\n",
              "      <td>0</td>\n",
              "    </tr>\n",
              "    <tr>\n",
              "      <th>12216</th>\n",
              "      <td>-0.601062</td>\n",
              "      <td>-3.357545</td>\n",
              "      <td>0</td>\n",
              "    </tr>\n",
              "    <tr>\n",
              "      <th>12217</th>\n",
              "      <td>-0.599601</td>\n",
              "      <td>-3.365236</td>\n",
              "      <td>0</td>\n",
              "    </tr>\n",
              "    <tr>\n",
              "      <th>12218</th>\n",
              "      <td>-0.598079</td>\n",
              "      <td>-3.372925</td>\n",
              "      <td>0</td>\n",
              "    </tr>\n",
              "    <tr>\n",
              "      <th>12219</th>\n",
              "      <td>-0.596610</td>\n",
              "      <td>-3.380623</td>\n",
              "      <td>0</td>\n",
              "    </tr>\n",
              "    <tr>\n",
              "      <th>12220</th>\n",
              "      <td>-0.595200</td>\n",
              "      <td>-3.388328</td>\n",
              "      <td>0</td>\n",
              "    </tr>\n",
              "    <tr>\n",
              "      <th>12221</th>\n",
              "      <td>-0.593277</td>\n",
              "      <td>-3.395983</td>\n",
              "      <td>0</td>\n",
              "    </tr>\n",
              "    <tr>\n",
              "      <th>12222</th>\n",
              "      <td>-0.591702</td>\n",
              "      <td>-3.403668</td>\n",
              "      <td>0</td>\n",
              "    </tr>\n",
              "    <tr>\n",
              "      <th>12223</th>\n",
              "      <td>-0.590273</td>\n",
              "      <td>-3.411372</td>\n",
              "      <td>0</td>\n",
              "    </tr>\n",
              "    <tr>\n",
              "      <th>12224</th>\n",
              "      <td>-0.588718</td>\n",
              "      <td>-3.419068</td>\n",
              "      <td>0</td>\n",
              "    </tr>\n",
              "    <tr>\n",
              "      <th>12225</th>\n",
              "      <td>-0.587200</td>\n",
              "      <td>-3.426761</td>\n",
              "      <td>0</td>\n",
              "    </tr>\n",
              "    <tr>\n",
              "      <th>12226</th>\n",
              "      <td>-0.585295</td>\n",
              "      <td>-3.434408</td>\n",
              "      <td>0</td>\n",
              "    </tr>\n",
              "    <tr>\n",
              "      <th>12227</th>\n",
              "      <td>-0.583789</td>\n",
              "      <td>-3.442100</td>\n",
              "      <td>0</td>\n",
              "    </tr>\n",
              "    <tr>\n",
              "      <th>12228</th>\n",
              "      <td>-0.582616</td>\n",
              "      <td>-3.449829</td>\n",
              "      <td>0</td>\n",
              "    </tr>\n",
              "    <tr>\n",
              "      <th>12229</th>\n",
              "      <td>-0.580761</td>\n",
              "      <td>-3.457485</td>\n",
              "      <td>0</td>\n",
              "    </tr>\n",
              "    <tr>\n",
              "      <th>12230</th>\n",
              "      <td>-0.579186</td>\n",
              "      <td>-3.465168</td>\n",
              "      <td>0</td>\n",
              "    </tr>\n",
              "    <tr>\n",
              "      <th>12231</th>\n",
              "      <td>-0.575962</td>\n",
              "      <td>-3.472682</td>\n",
              "      <td>0</td>\n",
              "    </tr>\n",
              "    <tr>\n",
              "      <th>12232</th>\n",
              "      <td>-0.575968</td>\n",
              "      <td>-3.480536</td>\n",
              "      <td>0</td>\n",
              "    </tr>\n",
              "    <tr>\n",
              "      <th>12233</th>\n",
              "      <td>-0.574266</td>\n",
              "      <td>-3.488212</td>\n",
              "      <td>0</td>\n",
              "    </tr>\n",
              "    <tr>\n",
              "      <th>12234</th>\n",
              "      <td>-0.572701</td>\n",
              "      <td>-3.495895</td>\n",
              "      <td>0</td>\n",
              "    </tr>\n",
              "    <tr>\n",
              "      <th>12235</th>\n",
              "      <td>-0.571446</td>\n",
              "      <td>-3.503613</td>\n",
              "      <td>0</td>\n",
              "    </tr>\n",
              "    <tr>\n",
              "      <th>12236</th>\n",
              "      <td>-0.569486</td>\n",
              "      <td>-3.511253</td>\n",
              "      <td>0</td>\n",
              "    </tr>\n",
              "    <tr>\n",
              "      <th>12237</th>\n",
              "      <td>-0.567868</td>\n",
              "      <td>-3.518933</td>\n",
              "      <td>0</td>\n",
              "    </tr>\n",
              "    <tr>\n",
              "      <th>12238</th>\n",
              "      <td>-0.566307</td>\n",
              "      <td>-3.526623</td>\n",
              "      <td>0</td>\n",
              "    </tr>\n",
              "    <tr>\n",
              "      <th>12239</th>\n",
              "      <td>NaN</td>\n",
              "      <td>NaN</td>\n",
              "      <td>0</td>\n",
              "    </tr>\n",
              "  </tbody>\n",
              "</table>\n",
              "</div>"
            ],
            "text/plain": [
              "       principal component 1  principal component 2  AtWar\n",
              "12215              -0.602570              -3.349853      0\n",
              "12216              -0.601062              -3.357545      0\n",
              "12217              -0.599601              -3.365236      0\n",
              "12218              -0.598079              -3.372925      0\n",
              "12219              -0.596610              -3.380623      0\n",
              "12220              -0.595200              -3.388328      0\n",
              "12221              -0.593277              -3.395983      0\n",
              "12222              -0.591702              -3.403668      0\n",
              "12223              -0.590273              -3.411372      0\n",
              "12224              -0.588718              -3.419068      0\n",
              "12225              -0.587200              -3.426761      0\n",
              "12226              -0.585295              -3.434408      0\n",
              "12227              -0.583789              -3.442100      0\n",
              "12228              -0.582616              -3.449829      0\n",
              "12229              -0.580761              -3.457485      0\n",
              "12230              -0.579186              -3.465168      0\n",
              "12231              -0.575962              -3.472682      0\n",
              "12232              -0.575968              -3.480536      0\n",
              "12233              -0.574266              -3.488212      0\n",
              "12234              -0.572701              -3.495895      0\n",
              "12235              -0.571446              -3.503613      0\n",
              "12236              -0.569486              -3.511253      0\n",
              "12237              -0.567868              -3.518933      0\n",
              "12238              -0.566307              -3.526623      0\n",
              "12239                    NaN                    NaN      0"
            ]
          },
          "metadata": {
            "tags": []
          },
          "execution_count": 76
        }
      ]
    },
    {
      "cell_type": "code",
      "metadata": {
        "colab": {
          "base_uri": "https://localhost:8080/",
          "height": 541
        },
        "id": "n5vzVCkMHYfJ",
        "outputId": "0f0ef299-1ba0-476d-a055-41bf6eb5c003"
      },
      "source": [
        "plt.figure()\n",
        "fig = plt.figure(figsize = (8,8))\n",
        "ax = fig.add_subplot(1,1,1) \n",
        "ax.set_xlabel('Principal Component 1', fontsize = 15)\n",
        "ax.set_ylabel('Principal Component 2', fontsize = 15)\n",
        "ax.set_title('2 Component PCA', fontsize = 20)\n",
        "\n",
        "\n",
        "targets = [0,1]\n",
        "colors = ['r', 'b']\n",
        "for target, color in zip(targets,colors):\n",
        "    indicesToKeep = finalDf['AtWar'] == target\n",
        "    plt.scatter(finalDf.loc[indicesToKeep, 'principal component 1']\n",
        "               , finalDf.loc[indicesToKeep, 'principal component 2']\n",
        "               , c = color\n",
        "               , s = 50)\n",
        "ax.legend(targets)\n",
        "ax.grid()"
      ],
      "execution_count": null,
      "outputs": [
        {
          "output_type": "display_data",
          "data": {
            "text/plain": [
              "<Figure size 432x288 with 0 Axes>"
            ]
          },
          "metadata": {
            "tags": []
          }
        },
        {
          "output_type": "display_data",
          "data": {
            "image/png": "[encoded data removed]",
            "text/plain": [
              "<Figure size 576x576 with 1 Axes>"
            ]
          },
          "metadata": {
            "tags": [],
            "needs_background": "light"
          }
        }
      ]
    },
    {
      "cell_type": "code",
      "metadata": {
        "colab": {
          "base_uri": "https://localhost:8080/"
        },
        "id": "D7XCkg9OMN0k",
        "outputId": "1c495f74-bb68-4fa9-bbb3-f60f4d98dbbd"
      },
      "source": [
        "pca.explained_variance_ratio_"
      ],
      "execution_count": null,
      "outputs": [
        {
          "output_type": "execute_result",
          "data": {
            "text/plain": [
              "array([0.4076906 , 0.16976385])"
            ]
          },
          "metadata": {
            "tags": []
          },
          "execution_count": 81
        }
      ]
    }
  ]
}