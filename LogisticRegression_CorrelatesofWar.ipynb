{
  "nbformat": 4,
  "nbformat_minor": 0,
  "metadata": {
    "colab": {
      "provenance": [],
      "collapsed_sections": []
    },
    "kernelspec": {
      "name": "python3",
      "display_name": "Python 3"
    }
  },
  "cells": [
    {
      "cell_type": "code",
      "metadata": {
        "id": "6jxBbmTYiV3a"
      },
      "source": [
        "import pandas as pd\n",
        "import numpy as np\n",
        "import matplotlib.pyplot as plt\n",
        "import seaborn as sns\n",
        "\n",
        "from sklearn import metrics\n",
        "from sklearn.linear_model import LogisticRegression\n",
        "from sklearn.model_selection import train_test_split"
      ],
      "execution_count": null,
      "outputs": []
    },
    {
      "cell_type": "code",
      "metadata": {
        "id": "_y20uR9xiC5-"
      },
      "source": [
        "df=pd.read_csv('/content/new_dataset.csv')"
      ],
      "execution_count": null,
      "outputs": []
    },
    {
      "cell_type": "code",
      "metadata": {
        "id": "UfeFwlkCjBAX"
      },
      "source": [
        "new_df=df.dropna(axis=0, how='any')"
      ],
      "execution_count": null,
      "outputs": []
    },
    {
      "cell_type": "code",
      "metadata": {
        "colab": {
          "base_uri": "https://localhost:8080/",
          "height": 415
        },
        "id": "UNpbKrFoim10",
        "outputId": "fb47f51b-a803-4c43-8595-ab48f8f5697f"
      },
      "source": [
        "new_df"
      ],
      "execution_count": null,
      "outputs": [
        {
          "output_type": "execute_result",
          "data": {
            "text/html": [
              "<div>\n",
              "<style scoped>\n",
              "    .dataframe tbody tr th:only-of-type {\n",
              "        vertical-align: middle;\n",
              "    }\n",
              "\n",
              "    .dataframe tbody tr th {\n",
              "        vertical-align: top;\n",
              "    }\n",
              "\n",
              "    .dataframe thead th {\n",
              "        text-align: right;\n",
              "    }\n",
              "</style>\n",
              "<table border=\"1\" class=\"dataframe\">\n",
              "  <thead>\n",
              "    <tr style=\"text-align: right;\">\n",
              "      <th></th>\n",
              "      <th>ccode_x</th>\n",
              "      <th>year</th>\n",
              "      <th>milex</th>\n",
              "      <th>milper</th>\n",
              "      <th>irst</th>\n",
              "      <th>pec</th>\n",
              "      <th>tpop</th>\n",
              "      <th>upop</th>\n",
              "      <th>cinc</th>\n",
              "      <th>ccode_y</th>\n",
              "      <th>statename</th>\n",
              "      <th>imports</th>\n",
              "      <th>exports</th>\n",
              "      <th>AtWar</th>\n",
              "    </tr>\n",
              "  </thead>\n",
              "  <tbody>\n",
              "    <tr>\n",
              "      <th>0</th>\n",
              "      <td>2</td>\n",
              "      <td>1870</td>\n",
              "      <td>13128</td>\n",
              "      <td>50</td>\n",
              "      <td>1692</td>\n",
              "      <td>37779</td>\n",
              "      <td>39905</td>\n",
              "      <td>4130</td>\n",
              "      <td>0.099000</td>\n",
              "      <td>2</td>\n",
              "      <td>170</td>\n",
              "      <td>450.000000</td>\n",
              "      <td>418.000000</td>\n",
              "      <td>0</td>\n",
              "    </tr>\n",
              "    <tr>\n",
              "      <th>1</th>\n",
              "      <td>2</td>\n",
              "      <td>1871</td>\n",
              "      <td>11811</td>\n",
              "      <td>42</td>\n",
              "      <td>1735</td>\n",
              "      <td>39546</td>\n",
              "      <td>40938</td>\n",
              "      <td>4302</td>\n",
              "      <td>0.098381</td>\n",
              "      <td>2</td>\n",
              "      <td>170</td>\n",
              "      <td>534.000000</td>\n",
              "      <td>475.000000</td>\n",
              "      <td>0</td>\n",
              "    </tr>\n",
              "    <tr>\n",
              "      <th>2</th>\n",
              "      <td>2</td>\n",
              "      <td>1872</td>\n",
              "      <td>14246</td>\n",
              "      <td>42</td>\n",
              "      <td>2590</td>\n",
              "      <td>48479</td>\n",
              "      <td>41972</td>\n",
              "      <td>4481</td>\n",
              "      <td>0.115283</td>\n",
              "      <td>2</td>\n",
              "      <td>170</td>\n",
              "      <td>632.000000</td>\n",
              "      <td>474.000000</td>\n",
              "      <td>0</td>\n",
              "    </tr>\n",
              "    <tr>\n",
              "      <th>3</th>\n",
              "      <td>2</td>\n",
              "      <td>1873</td>\n",
              "      <td>15014</td>\n",
              "      <td>43</td>\n",
              "      <td>2602</td>\n",
              "      <td>53674</td>\n",
              "      <td>43006</td>\n",
              "      <td>4667</td>\n",
              "      <td>0.116269</td>\n",
              "      <td>2</td>\n",
              "      <td>170</td>\n",
              "      <td>342.029999</td>\n",
              "      <td>626.590027</td>\n",
              "      <td>0</td>\n",
              "    </tr>\n",
              "    <tr>\n",
              "      <th>4</th>\n",
              "      <td>2</td>\n",
              "      <td>1874</td>\n",
              "      <td>12899</td>\n",
              "      <td>44</td>\n",
              "      <td>2439</td>\n",
              "      <td>51736</td>\n",
              "      <td>44040</td>\n",
              "      <td>4862</td>\n",
              "      <td>0.114245</td>\n",
              "      <td>2</td>\n",
              "      <td>170</td>\n",
              "      <td>576.000000</td>\n",
              "      <td>619.000000</td>\n",
              "      <td>0</td>\n",
              "    </tr>\n",
              "    <tr>\n",
              "      <th>...</th>\n",
              "      <td>...</td>\n",
              "      <td>...</td>\n",
              "      <td>...</td>\n",
              "      <td>...</td>\n",
              "      <td>...</td>\n",
              "      <td>...</td>\n",
              "      <td>...</td>\n",
              "      <td>...</td>\n",
              "      <td>...</td>\n",
              "      <td>...</td>\n",
              "      <td>...</td>\n",
              "      <td>...</td>\n",
              "      <td>...</td>\n",
              "      <td>...</td>\n",
              "    </tr>\n",
              "    <tr>\n",
              "      <th>12235</th>\n",
              "      <td>990</td>\n",
              "      <td>2008</td>\n",
              "      <td>0</td>\n",
              "      <td>0</td>\n",
              "      <td>0</td>\n",
              "      <td>39</td>\n",
              "      <td>183</td>\n",
              "      <td>0</td>\n",
              "      <td>0.000005</td>\n",
              "      <td>990</td>\n",
              "      <td>133</td>\n",
              "      <td>374.716258</td>\n",
              "      <td>153.254112</td>\n",
              "      <td>0</td>\n",
              "    </tr>\n",
              "    <tr>\n",
              "      <th>12236</th>\n",
              "      <td>990</td>\n",
              "      <td>2009</td>\n",
              "      <td>0</td>\n",
              "      <td>0</td>\n",
              "      <td>0</td>\n",
              "      <td>38</td>\n",
              "      <td>185</td>\n",
              "      <td>0</td>\n",
              "      <td>0.000005</td>\n",
              "      <td>990</td>\n",
              "      <td>133</td>\n",
              "      <td>340.987174</td>\n",
              "      <td>120.319739</td>\n",
              "      <td>0</td>\n",
              "    </tr>\n",
              "    <tr>\n",
              "      <th>12237</th>\n",
              "      <td>990</td>\n",
              "      <td>2010</td>\n",
              "      <td>0</td>\n",
              "      <td>0</td>\n",
              "      <td>0</td>\n",
              "      <td>38</td>\n",
              "      <td>186</td>\n",
              "      <td>0</td>\n",
              "      <td>0.000005</td>\n",
              "      <td>990</td>\n",
              "      <td>133</td>\n",
              "      <td>461.134529</td>\n",
              "      <td>134.037925</td>\n",
              "      <td>0</td>\n",
              "    </tr>\n",
              "    <tr>\n",
              "      <th>12238</th>\n",
              "      <td>990</td>\n",
              "      <td>2011</td>\n",
              "      <td>0</td>\n",
              "      <td>0</td>\n",
              "      <td>0</td>\n",
              "      <td>38</td>\n",
              "      <td>187</td>\n",
              "      <td>0</td>\n",
              "      <td>0.000005</td>\n",
              "      <td>990</td>\n",
              "      <td>133</td>\n",
              "      <td>493.031345</td>\n",
              "      <td>138.232471</td>\n",
              "      <td>0</td>\n",
              "    </tr>\n",
              "    <tr>\n",
              "      <th>12239</th>\n",
              "      <td>990</td>\n",
              "      <td>2012</td>\n",
              "      <td>0</td>\n",
              "      <td>0</td>\n",
              "      <td>0</td>\n",
              "      <td>38</td>\n",
              "      <td>189</td>\n",
              "      <td>0</td>\n",
              "      <td>0.000005</td>\n",
              "      <td>990</td>\n",
              "      <td>133</td>\n",
              "      <td>499.433688</td>\n",
              "      <td>149.728725</td>\n",
              "      <td>0</td>\n",
              "    </tr>\n",
              "  </tbody>\n",
              "</table>\n",
              "<p>12239 rows × 14 columns</p>\n",
              "</div>"
            ],
            "text/plain": [
              "       ccode_x  year  milex  milper  ...  statename     imports     exports  AtWar\n",
              "0            2  1870  13128      50  ...        170  450.000000  418.000000      0\n",
              "1            2  1871  11811      42  ...        170  534.000000  475.000000      0\n",
              "2            2  1872  14246      42  ...        170  632.000000  474.000000      0\n",
              "3            2  1873  15014      43  ...        170  342.029999  626.590027      0\n",
              "4            2  1874  12899      44  ...        170  576.000000  619.000000      0\n",
              "...        ...   ...    ...     ...  ...        ...         ...         ...    ...\n",
              "12235      990  2008      0       0  ...        133  374.716258  153.254112      0\n",
              "12236      990  2009      0       0  ...        133  340.987174  120.319739      0\n",
              "12237      990  2010      0       0  ...        133  461.134529  134.037925      0\n",
              "12238      990  2011      0       0  ...        133  493.031345  138.232471      0\n",
              "12239      990  2012      0       0  ...        133  499.433688  149.728725      0\n",
              "\n",
              "[12239 rows x 14 columns]"
            ]
          },
          "metadata": {
            "tags": []
          },
          "execution_count": 4
        }
      ]
    },
    {
      "cell_type": "code",
      "metadata": {
        "id": "ckWi_a4tisLj"
      },
      "source": [
        "x = new_df.drop('AtWar', axis=1)\n",
        "y = new_df.AtWar"
      ],
      "execution_count": null,
      "outputs": []
    },
    {
      "cell_type": "code",
      "metadata": {
        "colab": {
          "base_uri": "https://localhost:8080/",
          "height": 415
        },
        "id": "PzDSXByjit7q",
        "outputId": "410c762a-6946-4fb7-a334-8aafc61dddd2"
      },
      "source": [
        "x"
      ],
      "execution_count": null,
      "outputs": [
        {
          "output_type": "execute_result",
          "data": {
            "text/html": [
              "<div>\n",
              "<style scoped>\n",
              "    .dataframe tbody tr th:only-of-type {\n",
              "        vertical-align: middle;\n",
              "    }\n",
              "\n",
              "    .dataframe tbody tr th {\n",
              "        vertical-align: top;\n",
              "    }\n",
              "\n",
              "    .dataframe thead th {\n",
              "        text-align: right;\n",
              "    }\n",
              "</style>\n",
              "<table border=\"1\" class=\"dataframe\">\n",
              "  <thead>\n",
              "    <tr style=\"text-align: right;\">\n",
              "      <th></th>\n",
              "      <th>ccode_x</th>\n",
              "      <th>year</th>\n",
              "      <th>milex</th>\n",
              "      <th>milper</th>\n",
              "      <th>irst</th>\n",
              "      <th>pec</th>\n",
              "      <th>tpop</th>\n",
              "      <th>upop</th>\n",
              "      <th>cinc</th>\n",
              "      <th>ccode_y</th>\n",
              "      <th>statename</th>\n",
              "      <th>imports</th>\n",
              "      <th>exports</th>\n",
              "    </tr>\n",
              "  </thead>\n",
              "  <tbody>\n",
              "    <tr>\n",
              "      <th>0</th>\n",
              "      <td>2</td>\n",
              "      <td>1870</td>\n",
              "      <td>13128</td>\n",
              "      <td>50</td>\n",
              "      <td>1692</td>\n",
              "      <td>37779</td>\n",
              "      <td>39905</td>\n",
              "      <td>4130</td>\n",
              "      <td>0.099000</td>\n",
              "      <td>2</td>\n",
              "      <td>170</td>\n",
              "      <td>450.000000</td>\n",
              "      <td>418.000000</td>\n",
              "    </tr>\n",
              "    <tr>\n",
              "      <th>1</th>\n",
              "      <td>2</td>\n",
              "      <td>1871</td>\n",
              "      <td>11811</td>\n",
              "      <td>42</td>\n",
              "      <td>1735</td>\n",
              "      <td>39546</td>\n",
              "      <td>40938</td>\n",
              "      <td>4302</td>\n",
              "      <td>0.098381</td>\n",
              "      <td>2</td>\n",
              "      <td>170</td>\n",
              "      <td>534.000000</td>\n",
              "      <td>475.000000</td>\n",
              "    </tr>\n",
              "    <tr>\n",
              "      <th>2</th>\n",
              "      <td>2</td>\n",
              "      <td>1872</td>\n",
              "      <td>14246</td>\n",
              "      <td>42</td>\n",
              "      <td>2590</td>\n",
              "      <td>48479</td>\n",
              "      <td>41972</td>\n",
              "      <td>4481</td>\n",
              "      <td>0.115283</td>\n",
              "      <td>2</td>\n",
              "      <td>170</td>\n",
              "      <td>632.000000</td>\n",
              "      <td>474.000000</td>\n",
              "    </tr>\n",
              "    <tr>\n",
              "      <th>3</th>\n",
              "      <td>2</td>\n",
              "      <td>1873</td>\n",
              "      <td>15014</td>\n",
              "      <td>43</td>\n",
              "      <td>2602</td>\n",
              "      <td>53674</td>\n",
              "      <td>43006</td>\n",
              "      <td>4667</td>\n",
              "      <td>0.116269</td>\n",
              "      <td>2</td>\n",
              "      <td>170</td>\n",
              "      <td>342.029999</td>\n",
              "      <td>626.590027</td>\n",
              "    </tr>\n",
              "    <tr>\n",
              "      <th>4</th>\n",
              "      <td>2</td>\n",
              "      <td>1874</td>\n",
              "      <td>12899</td>\n",
              "      <td>44</td>\n",
              "      <td>2439</td>\n",
              "      <td>51736</td>\n",
              "      <td>44040</td>\n",
              "      <td>4862</td>\n",
              "      <td>0.114245</td>\n",
              "      <td>2</td>\n",
              "      <td>170</td>\n",
              "      <td>576.000000</td>\n",
              "      <td>619.000000</td>\n",
              "    </tr>\n",
              "    <tr>\n",
              "      <th>...</th>\n",
              "      <td>...</td>\n",
              "      <td>...</td>\n",
              "      <td>...</td>\n",
              "      <td>...</td>\n",
              "      <td>...</td>\n",
              "      <td>...</td>\n",
              "      <td>...</td>\n",
              "      <td>...</td>\n",
              "      <td>...</td>\n",
              "      <td>...</td>\n",
              "      <td>...</td>\n",
              "      <td>...</td>\n",
              "      <td>...</td>\n",
              "    </tr>\n",
              "    <tr>\n",
              "      <th>12235</th>\n",
              "      <td>990</td>\n",
              "      <td>2008</td>\n",
              "      <td>0</td>\n",
              "      <td>0</td>\n",
              "      <td>0</td>\n",
              "      <td>39</td>\n",
              "      <td>183</td>\n",
              "      <td>0</td>\n",
              "      <td>0.000005</td>\n",
              "      <td>990</td>\n",
              "      <td>133</td>\n",
              "      <td>374.716258</td>\n",
              "      <td>153.254112</td>\n",
              "    </tr>\n",
              "    <tr>\n",
              "      <th>12236</th>\n",
              "      <td>990</td>\n",
              "      <td>2009</td>\n",
              "      <td>0</td>\n",
              "      <td>0</td>\n",
              "      <td>0</td>\n",
              "      <td>38</td>\n",
              "      <td>185</td>\n",
              "      <td>0</td>\n",
              "      <td>0.000005</td>\n",
              "      <td>990</td>\n",
              "      <td>133</td>\n",
              "      <td>340.987174</td>\n",
              "      <td>120.319739</td>\n",
              "    </tr>\n",
              "    <tr>\n",
              "      <th>12237</th>\n",
              "      <td>990</td>\n",
              "      <td>2010</td>\n",
              "      <td>0</td>\n",
              "      <td>0</td>\n",
              "      <td>0</td>\n",
              "      <td>38</td>\n",
              "      <td>186</td>\n",
              "      <td>0</td>\n",
              "      <td>0.000005</td>\n",
              "      <td>990</td>\n",
              "      <td>133</td>\n",
              "      <td>461.134529</td>\n",
              "      <td>134.037925</td>\n",
              "    </tr>\n",
              "    <tr>\n",
              "      <th>12238</th>\n",
              "      <td>990</td>\n",
              "      <td>2011</td>\n",
              "      <td>0</td>\n",
              "      <td>0</td>\n",
              "      <td>0</td>\n",
              "      <td>38</td>\n",
              "      <td>187</td>\n",
              "      <td>0</td>\n",
              "      <td>0.000005</td>\n",
              "      <td>990</td>\n",
              "      <td>133</td>\n",
              "      <td>493.031345</td>\n",
              "      <td>138.232471</td>\n",
              "    </tr>\n",
              "    <tr>\n",
              "      <th>12239</th>\n",
              "      <td>990</td>\n",
              "      <td>2012</td>\n",
              "      <td>0</td>\n",
              "      <td>0</td>\n",
              "      <td>0</td>\n",
              "      <td>38</td>\n",
              "      <td>189</td>\n",
              "      <td>0</td>\n",
              "      <td>0.000005</td>\n",
              "      <td>990</td>\n",
              "      <td>133</td>\n",
              "      <td>499.433688</td>\n",
              "      <td>149.728725</td>\n",
              "    </tr>\n",
              "  </tbody>\n",
              "</table>\n",
              "<p>12239 rows × 13 columns</p>\n",
              "</div>"
            ],
            "text/plain": [
              "       ccode_x  year  milex  milper  ...  ccode_y  statename     imports     exports\n",
              "0            2  1870  13128      50  ...        2        170  450.000000  418.000000\n",
              "1            2  1871  11811      42  ...        2        170  534.000000  475.000000\n",
              "2            2  1872  14246      42  ...        2        170  632.000000  474.000000\n",
              "3            2  1873  15014      43  ...        2        170  342.029999  626.590027\n",
              "4            2  1874  12899      44  ...        2        170  576.000000  619.000000\n",
              "...        ...   ...    ...     ...  ...      ...        ...         ...         ...\n",
              "12235      990  2008      0       0  ...      990        133  374.716258  153.254112\n",
              "12236      990  2009      0       0  ...      990        133  340.987174  120.319739\n",
              "12237      990  2010      0       0  ...      990        133  461.134529  134.037925\n",
              "12238      990  2011      0       0  ...      990        133  493.031345  138.232471\n",
              "12239      990  2012      0       0  ...      990        133  499.433688  149.728725\n",
              "\n",
              "[12239 rows x 13 columns]"
            ]
          },
          "metadata": {
            "tags": []
          },
          "execution_count": 6
        }
      ]
    },
    {
      "cell_type": "code",
      "metadata": {
        "colab": {
          "base_uri": "https://localhost:8080/"
        },
        "id": "fw-ij7ZNivRX",
        "outputId": "a2fe94b7-6c55-4bf1-b025-2fc5403a5e97"
      },
      "source": [
        "y"
      ],
      "execution_count": null,
      "outputs": [
        {
          "output_type": "execute_result",
          "data": {
            "text/plain": [
              "0        0\n",
              "1        0\n",
              "2        0\n",
              "3        0\n",
              "4        0\n",
              "        ..\n",
              "12235    0\n",
              "12236    0\n",
              "12237    0\n",
              "12238    0\n",
              "12239    0\n",
              "Name: AtWar, Length: 12239, dtype: int64"
            ]
          },
          "metadata": {
            "tags": []
          },
          "execution_count": 7
        }
      ]
    },
    {
      "cell_type": "code",
      "metadata": {
        "id": "Eac_RNGGi0HQ"
      },
      "source": [
        "x_train, x_test, y_train, y_test = train_test_split(x, y, random_state=4)"
      ],
      "execution_count": null,
      "outputs": []
    },
    {
      "cell_type": "code",
      "metadata": {
        "id": "vLhSRUb3i2_0"
      },
      "source": [
        "logistic_regression = LogisticRegression(max_iter=500)"
      ],
      "execution_count": null,
      "outputs": []
    },
    {
      "cell_type": "code",
      "metadata": {
        "colab": {
          "base_uri": "https://localhost:8080/"
        },
        "id": "ccFVXMyri5LB",
        "outputId": "e43f72e6-8033-4bbe-8061-f5c6b1396e7a"
      },
      "source": [
        "logistic_regression.fit(x_train, y_train)"
      ],
      "execution_count": null,
      "outputs": [
        {
          "output_type": "execute_result",
          "data": {
            "text/plain": [
              "LogisticRegression(C=1.0, class_weight=None, dual=False, fit_intercept=True,\n",
              "                   intercept_scaling=1, l1_ratio=None, max_iter=500,\n",
              "                   multi_class='auto', n_jobs=None, penalty='l2',\n",
              "                   random_state=None, solver='lbfgs', tol=0.0001, verbose=0,\n",
              "                   warm_start=False)"
            ]
          },
          "metadata": {
            "tags": []
          },
          "execution_count": 10
        }
      ]
    },
    {
      "cell_type": "code",
      "metadata": {
        "id": "Kk1xw6tCkFy5"
      },
      "source": [
        "y_pred=logistic_regression.predict(x_test)"
      ],
      "execution_count": null,
      "outputs": []
    },
    {
      "cell_type": "code",
      "metadata": {
        "colab": {
          "base_uri": "https://localhost:8080/"
        },
        "id": "hBHmhaGEkJ3l",
        "outputId": "e87d7471-5630-4b0e-e602-83beff9fa2c7"
      },
      "source": [
        "y_pred"
      ],
      "execution_count": null,
      "outputs": [
        {
          "output_type": "execute_result",
          "data": {
            "text/plain": [
              "array([0, 0, 0, ..., 0, 0, 0])"
            ]
          },
          "metadata": {
            "tags": []
          },
          "execution_count": 12
        }
      ]
    },
    {
      "cell_type": "code",
      "metadata": {
        "colab": {
          "base_uri": "https://localhost:8080/",
          "height": 297
        },
        "id": "Ad2_shqXkP1u",
        "outputId": "aade9772-6b9b-4ea1-9da6-b17336736682"
      },
      "source": [
        "confusion_matrix = pd.crosstab(y_test, y_pred, rownames=['Actual'], colnames=['Predicted'])\n",
        "sns.heatmap(confusion_matrix, annot=True)"
      ],
      "execution_count": null,
      "outputs": [
        {
          "output_type": "execute_result",
          "data": {
            "text/plain": [
              "<matplotlib.axes._subplots.AxesSubplot at 0x7fc1279d13c8>"
            ]
          },
          "metadata": {
            "tags": []
          },
          "execution_count": 13
        },
        {
          "output_type": "display_data",
          "data": {
            "image/png": "[encoded data removed]",
            "text/plain": [
              "<Figure size 432x288 with 2 Axes>"
            ]
          },
          "metadata": {
            "tags": [],
            "needs_background": "light"
          }
        }
      ]
    },
    {
      "cell_type": "code",
      "metadata": {
        "colab": {
          "base_uri": "https://localhost:8080/"
        },
        "id": "jRmGSMJ8kVyP",
        "outputId": "330301f0-e6be-4a43-9d78-f36b99c00d9d"
      },
      "source": [
        "print('Accuracy: ',metrics.accuracy_score(y_test, y_pred))\n",
        "plt.show()"
      ],
      "execution_count": null,
      "outputs": [
        {
          "output_type": "stream",
          "text": [
            "Accuracy:  0.9581699346405229\n"
          ],
          "name": "stdout"
        }
      ]
    },
    {
      "cell_type": "code",
      "metadata": {
        "colab": {
          "base_uri": "https://localhost:8080/"
        },
        "id": "d7i0yB2ikmvB",
        "outputId": "d7dc28de-5b68-47ee-a494-63485051113a"
      },
      "source": [
        "y_test "
      ],
      "execution_count": null,
      "outputs": [
        {
          "output_type": "execute_result",
          "data": {
            "text/plain": [
              "9545     0\n",
              "5102     0\n",
              "3344     0\n",
              "4827     0\n",
              "5946     0\n",
              "        ..\n",
              "9794     0\n",
              "5645     1\n",
              "2483     0\n",
              "10403    0\n",
              "11975    0\n",
              "Name: AtWar, Length: 3060, dtype: int64"
            ]
          },
          "metadata": {
            "tags": []
          },
          "execution_count": 15
        }
      ]
    },
    {
      "cell_type": "code",
      "metadata": {
        "colab": {
          "base_uri": "https://localhost:8080/",
          "height": 457
        },
        "id": "CVoFD46glZ0M",
        "outputId": "5e3ad0b1-c8ae-4adb-8a29-4da171d72f00"
      },
      "source": [
        "from sklearn.metrics import roc_curve, auc\n",
        "logistic_fpr, logistic_tpr, threshold = roc_curve(y_test, y_pred)\n",
        "auc_logistic = auc(logistic_fpr, logistic_tpr)\n",
        "\n",
        "plt.figure(figsize=(5, 5), dpi=100)\n",
        "#plt.plot(nn_fpr, nn_tpr, linestyle='-', label='NN (auc = %0.3f)' % auc_nn)\n",
        "plt.plot(logistic_fpr, logistic_tpr, marker='.', label='Logistic (auc = %0.3f)' % auc_logistic)\n",
        "\n",
        "plt.xlabel('False Positive Rate -->')\n",
        "plt.ylabel('True Positive Rate -->')\n",
        "\n",
        "plt.legend()\n",
        "\n",
        "plt.show()"
      ],
      "execution_count": null,
      "outputs": [
        {
          "output_type": "display_data",
          "data": {
            "image/png": "[encoded data removed]",
            "text/plain": [
              "<Figure size 500x500 with 1 Axes>"
            ]
          },
          "metadata": {
            "tags": [],
            "needs_background": "light"
          }
        }
      ]
    }
  ]
}